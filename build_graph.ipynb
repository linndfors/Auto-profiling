{
 "cells": [
  {
   "cell_type": "code",
   "execution_count": null,
   "metadata": {},
   "outputs": [],
   "source": [
    "# !pip install requests beautifulsoup4\n",
    "# !pip install tqdm"
   ]
  },
  {
   "cell_type": "code",
   "execution_count": 1,
   "metadata": {},
   "outputs": [],
   "source": [
    "import requests\n",
    "from bs4 import BeautifulSoup\n",
    "import json\n",
    "import tqdm\n",
    "\n",
    "url = \"https://www.serpom.org.ua/fuckups/page/\"\n",
    "pages_count = [x for x in range(10)]"
   ]
  },
  {
   "cell_type": "code",
   "execution_count": 2,
   "metadata": {},
   "outputs": [],
   "source": [
    "headers = {\n",
    "    \"User-Agent\": \"Mozilla/5.0 (Windows NT 10.0; Win64; x64) AppleWebKit/537.36 (KHTML, like Gecko) Chrome/114.0.0.0 Safari/537.36\"\n",
    "}"
   ]
  },
  {
   "cell_type": "code",
   "execution_count": 3,
   "metadata": {},
   "outputs": [],
   "source": [
    "def get_member(member_url):\n",
    "    member_response = requests.get(member_url, headers=headers)\n",
    "    if member_response.status_code == 200:\n",
    "        member_soup = BeautifulSoup(member_response.content, \"html.parser\")\n",
    "        member_name = member_soup.find('h1', class_='deputy-card-single__title').get_text(strip=True)\n",
    "        fuckups_count = member_soup.find('div', class_='count-fuckups').get_text(strip=True)\n",
    "        deputy_card = member_soup.find('span', class_='deputy-card-single-info__title').get_text(strip=True)\n",
    "        return member_name, fuckups_count, deputy_card\n",
    "\n",
    "def get_members_info(members_url):\n",
    "    all_members = []\n",
    "    member_response = requests.get(members_url, headers=headers)\n",
    "    if member_response.status_code == 200:\n",
    "        member_soup = BeautifulSoup(member_response.content, \"html.parser\")\n",
    "        member_names = member_soup.find_all('h3', class_='deputy-card__name')\n",
    "        for member in member_names:\n",
    "            title_a = member.find('a')\n",
    "            title_ref = title_a.get('href')\n",
    "            member_name, fuckups_count, deputy_card = get_member(title_ref)\n",
    "            all_members.append((member_name, fuckups_count, deputy_card))\n",
    "        return all_members\n",
    "\n",
    "    else:\n",
    "        print(f\"Failed to retrieve member page. Status code: {member_response.status_code}\")\n",
    "        return None, None, None"
   ]
  },
  {
   "cell_type": "code",
   "execution_count": null,
   "metadata": {},
   "outputs": [],
   "source": [
    "fuckups = []\n",
    "all_deputies = {}\n",
    "\n",
    "for page in pages_count:\n",
    "    print(page)\n",
    "    \n",
    "    new_url = url + str(page) +\"/\"\n",
    "    response = requests.get(new_url, headers=headers)\n",
    "\n",
    "\n",
    "    if response.status_code == 200:\n",
    "        soup = BeautifulSoup(response.content, \"html.parser\")\n",
    "\n",
    "        \n",
    "        for entry in soup.find_all('div', class_='article-card-container'):\n",
    "            title = entry.find('h3', class_='article-card__title')\n",
    "            \n",
    "            title_text = title.get_text(strip=True)\n",
    "\n",
    "            title_a = title.find('a')\n",
    "            title_ref = title_a.get('href')\n",
    "\n",
    "            all_members_info = get_members_info(title_ref)\n",
    "            for name, count, party in all_members_info:\n",
    "                if name not in all_deputies.keys():\n",
    "                    all_deputies[name] = (count, party)\n",
    "\n",
    "            all_members_names_list = [x[0] for x in all_members_info]\n",
    "            \n",
    "            fuckups.append({'title': title_text, 'members': all_members_names_list})\n",
    "            print(all_members_names_list)\n",
    "    else:\n",
    "        print(f\"Failed to retrieve data. Status code: {response.status_code}\")\n",
    "\n",
    "for item in fuckups:\n",
    "    print(f\"Title: {item['title']}, Members: {', '.join(item['members'])}\")\n"
   ]
  },
  {
   "cell_type": "code",
   "execution_count": 19,
   "metadata": {},
   "outputs": [
    {
     "data": {
      "text/plain": [
       "{'Войцехівський Віталій Олександрович': ['4', 'Слуга Народу'],\n",
       " 'Ковальчук Олександр Володимирович': ['18', 'Слуга Народу'],\n",
       " 'Бужанський Максим Аркадійович': ['31', 'Слуга Народу'],\n",
       " 'Бабенко Микола Вікторович': ['18', 'Довіра'],\n",
       " 'Бондар Ганна Вячеславівна': ['8', 'Слуга Народу'],\n",
       " 'Кіссе Антон Іванович': ['49', 'Довіра'],\n",
       " 'Галушко Микола Леонідович': ['18', 'Слуга Народу'],\n",
       " 'Дануца Олександр Анатолійович': ['20', 'Слуга Народу'],\n",
       " 'Касай Геннадій Олександрович': ['17', 'Слуга Народу'],\n",
       " 'Борзова Ірина Наумівна': ['18', 'Слуга Народу'],\n",
       " 'Дмитрук Артем Геннадійович': ['19', 'Позафракційні'],\n",
       " 'Лунченко Валерій Валерійович': ['35', 'Довіра'],\n",
       " 'Каптєлов Роман Володимирович': ['22', 'Слуга Народу'],\n",
       " 'Литвиненко Сергій Анатолійович': ['26', 'Слуга Народу'],\n",
       " 'Іонушас Сергій Костянтинович': ['20', 'Слуга Народу'],\n",
       " 'Іоффе Юлій Якович': ['43', 'ЕксОПЗЖ'],\n",
       " 'Бойко Юрій Анатолійович': ['23', 'ЕксОПЗЖ'],\n",
       " 'Борт Віталій Петрович': ['24', 'ЕксОПЗЖ'],\n",
       " 'Брагар Євгеній Вадимович': ['22', 'Слуга Народу'],\n",
       " 'Василевська-Смаглюк Ольга Михайлівна': ['29', 'Слуга Народу'],\n",
       " 'Захарченко Володимир Васильович': ['21', 'Слуга Народу'],\n",
       " 'Яцик Юлія Григорівна': ['20', 'Позафракційні'],\n",
       " 'Арешонков Володимир Юрійович': ['24', 'Довіра'],\n",
       " 'Алєксєєв Сергій Олегович': ['25', 'Європейська Солідарність'],\n",
       " 'Бакумов Олександр Сергійович': ['20', 'Слуга Народу'],\n",
       " 'Колєв Олег Вікторович': ['24', 'Слуга Народу'],\n",
       " 'Мінько Сергій Анатолійович': ['31', 'Довіра'],\n",
       " 'Медяник В’ячеслав Анатолійович': ['23', 'Слуга Народу'],\n",
       " 'Леонов Олексій Олександрович': ['16', 'Слуга Народу'],\n",
       " \"Володіна Дар'я Артемівна\": ['18', 'Слуга Народу'],\n",
       " 'Воронько Олег Євгенійович': ['23', 'Позафракційні'],\n",
       " 'Гетманцев Данило Олександрович': ['22', 'Слуга Народу'],\n",
       " 'Діденко Юлія Олександрівна': ['22', 'Слуга Народу'],\n",
       " 'Кінзбурська Вікторія Олександрівна': ['25', 'Слуга Народу'],\n",
       " 'Лукашев Олександр Анатолійович': ['33', 'ЕксОПЗЖ'],\n",
       " 'Ляшенко Анастасія Олексіївна': ['20', 'Слуга Народу'],\n",
       " 'Крячко Михайло Валерійович': ['10', 'Слуга Народу'],\n",
       " 'Федієнко Олександр Павлович': ['17', 'Слуга Народу'],\n",
       " 'Арсенюк Олег Олексійович': ['20', 'Слуга Народу'],\n",
       " 'Богуцька Єлізавета Петрівна': ['9', 'Слуга Народу'],\n",
       " 'Бондаренко Олег Володимирович': ['20', 'Слуга Народу'],\n",
       " 'Демченко Сергій Олексійович': ['30', 'Слуга Народу'],\n",
       " 'Мазурашу Георгій Георгійович': ['20', 'Слуга Народу'],\n",
       " 'Мамка Григорій Миколайович': ['34', 'ЕксОПЗЖ'],\n",
       " 'Мамоян Суто Чолоєвич': ['29', 'ЕксОПЗЖ'],\n",
       " 'Лабазюк Сергій Петрович': ['35', 'За майбутнє'],\n",
       " 'Тищенко Микола Миколайович': ['18', 'Позафракційні'],\n",
       " 'Гузенко Максим Васильович': ['17', 'Слуга Народу'],\n",
       " 'Разумков Дмитро Олександрович': ['17', 'Позафракційні'],\n",
       " 'Євтушок Сергій Миколайович': ['10', 'Батьківщина'],\n",
       " 'Бабій Роман Вячеславович': ['16', 'Слуга Народу'],\n",
       " 'Власенко Сергій Володимирович': ['36', 'Батьківщина'],\n",
       " 'Красов Олексій Ігорович': ['20', 'Слуга Народу'],\n",
       " 'Крулько Іван Іванович': ['28', 'Батьківщина'],\n",
       " 'Микиша Дмитро Сергійович': ['23', 'Слуга Народу'],\n",
       " 'Неклюдов Владлен Михайлович': ['21', 'Слуга Народу'],\n",
       " 'Васюк Олександр Олександрович': ['3', 'Слуга Народу'],\n",
       " 'Ватрас Володимир Антонович': ['24', 'Слуга Народу'],\n",
       " 'Гунько Анатолій Григорович': ['10', 'Позафракційні'],\n",
       " 'Дирдін Максим Євгенович': ['21', 'Слуга Народу'],\n",
       " 'Калаур Іван Романович': ['21', 'Слуга Народу'],\n",
       " 'Маслов Денис Вячеславович': ['13', 'Слуга Народу'],\n",
       " 'Стефанчук Микола Олексійович': ['19', 'Слуга Народу'],\n",
       " 'Фріс Ігор Павлович': ['26', 'Слуга Народу'],\n",
       " 'Івченко Вадим Євгенович': ['31', 'Батьківщина'],\n",
       " 'Кириленко Іван Григорович': ['21', 'Батьківщина'],\n",
       " 'Наливайченко Валентин Олександрович': ['19', 'Батьківщина'],\n",
       " 'Тимошенко Юлія Володимирівна': ['28', 'Батьківщина'],\n",
       " 'Бурміч Анатолій Петрович': ['31', 'ЕксОПЗЖ'],\n",
       " 'Величкович Микола Романович': ['13', 'Європейська Солідарність'],\n",
       " 'Гнатенко Валерій Сергійович': ['27', 'ЕксОПЗЖ'],\n",
       " 'Гончаренко Олексій Олексійович': ['15', 'Європейська Солідарність'],\n",
       " 'Вельможний Сергій Анатолійович': ['25', 'Довіра'],\n",
       " 'Німченко Василь Іванович': ['49', 'ЕксОПЗЖ'],\n",
       " 'Княжицький Микола Леонідович': ['18', 'Європейська Солідарність'],\n",
       " 'Балога Віктор Іванович': ['25', 'За майбутнє'],\n",
       " 'Івахів Степан Петрович': ['29', 'За майбутнє'],\n",
       " 'Ісаєнко Дмитро Валерійович': ['22', 'ЕксОПЗЖ'],\n",
       " 'Абдуллін Олександр Рафкатович': ['27', 'Батьківщина'],\n",
       " 'Іонова Марія Миколаївна': ['9', 'Європейська Солідарність'],\n",
       " 'Ар’єв Володимир Ігорович': ['9', 'Європейська Солідарність'],\n",
       " 'Дубінський Олександр Анатолійович': ['32', 'Позафракційні'],\n",
       " 'Дунаєв Сергій Володимирович': ['43', 'ЕксОПЗЖ'],\n",
       " 'Загородній Юрій Іванович': ['28', 'ЕксОПЗЖ'],\n",
       " 'Кальцев Володимир Федорович': ['25', 'ЕксОПЗЖ'],\n",
       " 'Качний Олександр Сталіноленович': ['24', 'ЕксОПЗЖ'],\n",
       " 'Макаренко Михайло Васильович': ['30', 'ЕксОПЗЖ'],\n",
       " 'Бунін Сергій Валерійович': ['20', 'Слуга Народу'],\n",
       " 'Вацак Геннадій Анатолійович': ['15', 'Довіра'],\n",
       " 'Качура Олександр Анатолійович': ['17', 'Слуга Народу'],\n",
       " 'Кожем’якін Андрій Анатолійович': ['18', 'Батьківщина'],\n",
       " 'Цимбалюк Михайло Михайлович': ['22', 'Батьківщина'],\n",
       " 'Павлюк Максим Васильович': ['24', 'Слуга Народу'],\n",
       " 'Припутень Дмитро Сергійович': ['21', 'Слуга Народу'],\n",
       " 'Божик Валерій Іванович': ['15', 'Слуга Народу'],\n",
       " 'Арахамія Давид Георгійович': ['19', 'Слуга Народу'],\n",
       " 'Білозір Лариса Миколаївна': ['19', 'Довіра'],\n",
       " 'Батенко Тарас Іванович': ['37', 'За майбутнє'],\n",
       " 'Вагнєр Вікторія Олександрівна': ['15', 'Слуга Народу'],\n",
       " 'Горбенко Руслан Олександрович': ['17', 'Слуга Народу'],\n",
       " 'Шевченко Євгеній Володимирович': ['21', 'Позафракційні'],\n",
       " 'Мороз Володимир Вікторович': ['29', 'ЕксОПЗЖ'],\n",
       " 'Приходько Наталія Ігорівна': ['25', 'ЕксОПЗЖ'],\n",
       " 'Бондар Віктор Васильович': ['41', 'Позафракційні']}"
      ]
     },
     "execution_count": 19,
     "metadata": {},
     "output_type": "execute_result"
    }
   ],
   "source": [
    "all_deputies"
   ]
  },
  {
   "cell_type": "code",
   "execution_count": 15,
   "metadata": {},
   "outputs": [
    {
     "name": "stdout",
     "output_type": "stream",
     "text": [
      "Dictionary saved as 'all_deputies.json'\n"
     ]
    }
   ],
   "source": [
    "# with open('all_deputies.json', 'w', encoding='utf-8') as file:\n",
    "#     json.dump(all_deputies, file, ensure_ascii=False, indent=4)\n",
    "\n",
    "with open('all_deputies.json', 'r', encoding='utf-8') as file:\n",
    "    all_deputies = json.load(file)"
   ]
  },
  {
   "cell_type": "code",
   "execution_count": 20,
   "metadata": {},
   "outputs": [
    {
     "name": "stdout",
     "output_type": "stream",
     "text": [
      "Data saved to 'fuckups_data_updated.json'\n"
     ]
    }
   ],
   "source": [
    "# with open('fuckups_data.json', 'w', encoding='utf-8') as f:\n",
    "#     json.dump(fuckups, f, ensure_ascii=False, indent=4)\n",
    "\n",
    "with open('fuckups_data.json', 'r', encoding='utf-8') as file:\n",
    "    fuckups = json.load(file)"
   ]
  },
  {
   "cell_type": "code",
   "execution_count": 34,
   "metadata": {},
   "outputs": [
    {
     "name": "stderr",
     "output_type": "stream",
     "text": [
      "  0%|          | 0/104 [00:00<?, ?it/s]"
     ]
    },
    {
     "name": "stdout",
     "output_type": "stream",
     "text": [
      "Войцехівський Віталій Олександрович\n"
     ]
    },
    {
     "name": "stderr",
     "output_type": "stream",
     "text": [
      "  1%|          | 1/104 [00:03<05:43,  3.34s/it]"
     ]
    },
    {
     "name": "stdout",
     "output_type": "stream",
     "text": [
      "Ковальчук Олександр Володимирович\n"
     ]
    },
    {
     "name": "stderr",
     "output_type": "stream",
     "text": [
      "  2%|▏         | 2/104 [00:23<22:57, 13.50s/it]"
     ]
    },
    {
     "name": "stdout",
     "output_type": "stream",
     "text": [
      "Бужанський Максим Аркадійович\n"
     ]
    },
    {
     "name": "stderr",
     "output_type": "stream",
     "text": [
      "  3%|▎         | 3/104 [00:33<19:40, 11.69s/it]"
     ]
    },
    {
     "name": "stdout",
     "output_type": "stream",
     "text": [
      "Бабенко Микола Вікторович\n"
     ]
    },
    {
     "name": "stderr",
     "output_type": "stream",
     "text": [
      "  4%|▍         | 4/104 [00:37<14:39,  8.80s/it]"
     ]
    },
    {
     "name": "stdout",
     "output_type": "stream",
     "text": [
      "Бондар Ганна Вячеславівна\n"
     ]
    },
    {
     "name": "stderr",
     "output_type": "stream",
     "text": [
      "  5%|▍         | 5/104 [00:40<11:00,  6.67s/it]"
     ]
    },
    {
     "name": "stdout",
     "output_type": "stream",
     "text": [
      "Кіссе Антон Іванович\n"
     ]
    },
    {
     "name": "stderr",
     "output_type": "stream",
     "text": [
      "  6%|▌         | 6/104 [00:45<09:57,  6.10s/it]"
     ]
    },
    {
     "name": "stdout",
     "output_type": "stream",
     "text": [
      "Галушко Микола Леонідович\n"
     ]
    },
    {
     "name": "stderr",
     "output_type": "stream",
     "text": [
      "  7%|▋         | 7/104 [00:49<08:51,  5.48s/it]"
     ]
    },
    {
     "name": "stdout",
     "output_type": "stream",
     "text": [
      "Дануца Олександр Анатолійович\n"
     ]
    },
    {
     "name": "stderr",
     "output_type": "stream",
     "text": [
      "  8%|▊         | 8/104 [00:53<07:53,  4.94s/it]"
     ]
    },
    {
     "name": "stdout",
     "output_type": "stream",
     "text": [
      "Касай Геннадій Олександрович\n"
     ]
    },
    {
     "name": "stderr",
     "output_type": "stream",
     "text": [
      "  9%|▊         | 9/104 [01:01<09:01,  5.70s/it]"
     ]
    },
    {
     "name": "stdout",
     "output_type": "stream",
     "text": [
      "Борзова Ірина Наумівна\n"
     ]
    },
    {
     "name": "stderr",
     "output_type": "stream",
     "text": [
      " 10%|▉         | 10/104 [01:03<07:18,  4.66s/it]"
     ]
    },
    {
     "name": "stdout",
     "output_type": "stream",
     "text": [
      "error with: https://rada4you.org/search?query=Ірина+Борзова&button=hero_search\n",
      "Дмитрук Артем Геннадійович\n"
     ]
    },
    {
     "name": "stderr",
     "output_type": "stream",
     "text": [
      " 11%|█         | 11/104 [01:06<06:15,  4.04s/it]"
     ]
    },
    {
     "name": "stdout",
     "output_type": "stream",
     "text": [
      "Лунченко Валерій Валерійович\n"
     ]
    },
    {
     "name": "stderr",
     "output_type": "stream",
     "text": [
      " 12%|█▏        | 12/104 [01:07<05:06,  3.33s/it]"
     ]
    },
    {
     "name": "stdout",
     "output_type": "stream",
     "text": [
      "Каптєлов Роман Володимирович\n"
     ]
    },
    {
     "name": "stderr",
     "output_type": "stream",
     "text": [
      " 12%|█▎        | 13/104 [01:10<04:46,  3.15s/it]"
     ]
    },
    {
     "name": "stdout",
     "output_type": "stream",
     "text": [
      "error with: https://rada4you.org/search?query=Роман+Каптєлов&button=hero_search\n",
      "Литвиненко Сергій Анатолійович\n"
     ]
    },
    {
     "name": "stderr",
     "output_type": "stream",
     "text": [
      " 13%|█▎        | 14/104 [01:17<06:16,  4.18s/it]"
     ]
    },
    {
     "name": "stdout",
     "output_type": "stream",
     "text": [
      "error with: https://rada4you.org/search?query=Сергій+Литвиненко&button=hero_search\n",
      "Іонушас Сергій Костянтинович\n"
     ]
    },
    {
     "name": "stderr",
     "output_type": "stream",
     "text": [
      " 14%|█▍        | 15/104 [01:19<05:26,  3.66s/it]"
     ]
    },
    {
     "name": "stdout",
     "output_type": "stream",
     "text": [
      "Іоффе Юлій Якович\n"
     ]
    },
    {
     "name": "stderr",
     "output_type": "stream",
     "text": [
      " 15%|█▌        | 16/104 [01:22<04:52,  3.33s/it]"
     ]
    },
    {
     "name": "stdout",
     "output_type": "stream",
     "text": [
      "Бойко Юрій Анатолійович\n"
     ]
    },
    {
     "name": "stderr",
     "output_type": "stream",
     "text": [
      " 16%|█▋        | 17/104 [01:25<04:42,  3.25s/it]"
     ]
    },
    {
     "name": "stdout",
     "output_type": "stream",
     "text": [
      "error with: https://rada4you.org/search?query=Юрій+Бойко&button=hero_search\n",
      "Борт Віталій Петрович\n"
     ]
    },
    {
     "name": "stderr",
     "output_type": "stream",
     "text": [
      " 17%|█▋        | 18/104 [01:27<04:25,  3.08s/it]"
     ]
    },
    {
     "name": "stdout",
     "output_type": "stream",
     "text": [
      "error with: https://rada4you.org/search?query=Віталій+Борт&button=hero_search\n",
      "Брагар Євгеній Вадимович\n"
     ]
    },
    {
     "name": "stderr",
     "output_type": "stream",
     "text": [
      " 18%|█▊        | 19/104 [01:29<03:53,  2.74s/it]"
     ]
    },
    {
     "name": "stdout",
     "output_type": "stream",
     "text": [
      "Василевська-Смаглюк Ольга Михайлівна\n"
     ]
    },
    {
     "name": "stderr",
     "output_type": "stream",
     "text": [
      " 19%|█▉        | 20/104 [01:31<03:32,  2.53s/it]"
     ]
    },
    {
     "name": "stdout",
     "output_type": "stream",
     "text": [
      "error with: https://rada4you.org/search?query=Ольга+Василевська-Смаглюк&button=hero_search\n",
      "Захарченко Володимир Васильович\n"
     ]
    },
    {
     "name": "stderr",
     "output_type": "stream",
     "text": [
      " 20%|██        | 21/104 [01:34<03:30,  2.54s/it]"
     ]
    },
    {
     "name": "stdout",
     "output_type": "stream",
     "text": [
      "error with: https://rada4you.org/search?query=Володимир+Захарченко&button=hero_search\n",
      "Яцик Юлія Григорівна\n"
     ]
    },
    {
     "name": "stderr",
     "output_type": "stream",
     "text": [
      " 21%|██        | 22/104 [01:37<03:33,  2.60s/it]"
     ]
    },
    {
     "name": "stdout",
     "output_type": "stream",
     "text": [
      "Арешонков Володимир Юрійович\n"
     ]
    },
    {
     "name": "stderr",
     "output_type": "stream",
     "text": [
      " 22%|██▏       | 23/104 [01:39<03:36,  2.67s/it]"
     ]
    },
    {
     "name": "stdout",
     "output_type": "stream",
     "text": [
      "Алєксєєв Сергій Олегович\n"
     ]
    },
    {
     "name": "stderr",
     "output_type": "stream",
     "text": [
      " 23%|██▎       | 24/104 [01:42<03:23,  2.54s/it]"
     ]
    },
    {
     "name": "stdout",
     "output_type": "stream",
     "text": [
      "Бакумов Олександр Сергійович\n"
     ]
    },
    {
     "name": "stderr",
     "output_type": "stream",
     "text": [
      " 24%|██▍       | 25/104 [01:43<02:49,  2.14s/it]"
     ]
    },
    {
     "name": "stdout",
     "output_type": "stream",
     "text": [
      "Колєв Олег Вікторович\n"
     ]
    },
    {
     "name": "stderr",
     "output_type": "stream",
     "text": [
      " 25%|██▌       | 26/104 [01:44<02:30,  1.93s/it]"
     ]
    },
    {
     "name": "stdout",
     "output_type": "stream",
     "text": [
      "error with: https://rada4you.org/search?query=Олег+Колєв&button=hero_search\n",
      "Мінько Сергій Анатолійович\n"
     ]
    },
    {
     "name": "stderr",
     "output_type": "stream",
     "text": [
      " 26%|██▌       | 27/104 [01:47<02:46,  2.16s/it]"
     ]
    },
    {
     "name": "stdout",
     "output_type": "stream",
     "text": [
      "Медяник В’ячеслав Анатолійович\n"
     ]
    },
    {
     "name": "stderr",
     "output_type": "stream",
     "text": [
      " 27%|██▋       | 28/104 [01:58<06:00,  4.75s/it]"
     ]
    },
    {
     "name": "stdout",
     "output_type": "stream",
     "text": [
      "error with: https://rada4you.org/search?query=В’ячеслав+Медяник&button=hero_search\n",
      "Леонов Олексій Олександрович\n"
     ]
    },
    {
     "name": "stderr",
     "output_type": "stream",
     "text": [
      " 28%|██▊       | 29/104 [01:59<04:38,  3.71s/it]"
     ]
    },
    {
     "name": "stdout",
     "output_type": "stream",
     "text": [
      "error with: https://rada4you.org/search?query=Олексій+Леонов&button=hero_search\n",
      "Володіна Дар'я Артемівна\n"
     ]
    },
    {
     "name": "stderr",
     "output_type": "stream",
     "text": [
      " 29%|██▉       | 30/104 [02:00<03:42,  3.00s/it]"
     ]
    },
    {
     "name": "stdout",
     "output_type": "stream",
     "text": [
      "Воронько Олег Євгенійович\n"
     ]
    },
    {
     "name": "stderr",
     "output_type": "stream",
     "text": [
      " 30%|██▉       | 31/104 [02:02<03:02,  2.51s/it]"
     ]
    },
    {
     "name": "stdout",
     "output_type": "stream",
     "text": [
      "error with: https://rada4you.org/search?query=Олег+Воронько&button=hero_search\n",
      "Гетманцев Данило Олександрович\n"
     ]
    },
    {
     "name": "stderr",
     "output_type": "stream",
     "text": [
      " 31%|███       | 32/104 [02:04<02:42,  2.26s/it]"
     ]
    },
    {
     "name": "stdout",
     "output_type": "stream",
     "text": [
      "error with: https://rada4you.org/search?query=Данило+Гетманцев&button=hero_search\n",
      "Діденко Юлія Олександрівна\n"
     ]
    },
    {
     "name": "stderr",
     "output_type": "stream",
     "text": [
      " 32%|███▏      | 33/104 [02:05<02:19,  1.97s/it]"
     ]
    },
    {
     "name": "stdout",
     "output_type": "stream",
     "text": [
      "error with: https://rada4you.org/search?query=Юлія+Діденко&button=hero_search\n",
      "Кінзбурська Вікторія Олександрівна\n"
     ]
    },
    {
     "name": "stderr",
     "output_type": "stream",
     "text": [
      " 33%|███▎      | 34/104 [02:06<02:02,  1.75s/it]"
     ]
    },
    {
     "name": "stdout",
     "output_type": "stream",
     "text": [
      "error with: https://rada4you.org/search?query=Вікторія+Кінзбурська&button=hero_search\n",
      "Лукашев Олександр Анатолійович\n"
     ]
    },
    {
     "name": "stderr",
     "output_type": "stream",
     "text": [
      " 34%|███▎      | 35/104 [02:08<01:55,  1.67s/it]"
     ]
    },
    {
     "name": "stdout",
     "output_type": "stream",
     "text": [
      "Ляшенко Анастасія Олексіївна\n"
     ]
    },
    {
     "name": "stderr",
     "output_type": "stream",
     "text": [
      " 35%|███▍      | 36/104 [02:08<01:39,  1.46s/it]"
     ]
    },
    {
     "name": "stdout",
     "output_type": "stream",
     "text": [
      "Крячко Михайло Валерійович\n"
     ]
    },
    {
     "name": "stderr",
     "output_type": "stream",
     "text": [
      " 36%|███▌      | 37/104 [02:11<01:56,  1.74s/it]"
     ]
    },
    {
     "name": "stdout",
     "output_type": "stream",
     "text": [
      "Федієнко Олександр Павлович\n"
     ]
    },
    {
     "name": "stderr",
     "output_type": "stream",
     "text": [
      " 37%|███▋      | 38/104 [02:12<01:49,  1.66s/it]"
     ]
    },
    {
     "name": "stdout",
     "output_type": "stream",
     "text": [
      "error with: https://rada4you.org/search?query=Олександр+Федієнко&button=hero_search\n",
      "Арсенюк Олег Олексійович\n"
     ]
    },
    {
     "name": "stderr",
     "output_type": "stream",
     "text": [
      " 38%|███▊      | 39/104 [02:13<01:35,  1.46s/it]"
     ]
    },
    {
     "name": "stdout",
     "output_type": "stream",
     "text": [
      "error with: https://rada4you.org/search?query=Олег+Арсенюк&button=hero_search\n",
      "Богуцька Єлізавета Петрівна\n"
     ]
    },
    {
     "name": "stderr",
     "output_type": "stream",
     "text": [
      " 38%|███▊      | 40/104 [02:15<01:33,  1.45s/it]"
     ]
    },
    {
     "name": "stdout",
     "output_type": "stream",
     "text": [
      "error with: https://rada4you.org/search?query=Єлізавета+Богуцька&button=hero_search\n",
      "Бондаренко Олег Володимирович\n"
     ]
    },
    {
     "name": "stderr",
     "output_type": "stream",
     "text": [
      " 39%|███▉      | 41/104 [02:17<01:43,  1.65s/it]"
     ]
    },
    {
     "name": "stdout",
     "output_type": "stream",
     "text": [
      "error with: https://rada4you.org/search?query=Олег+Бондаренко&button=hero_search\n",
      "Демченко Сергій Олексійович\n"
     ]
    },
    {
     "name": "stderr",
     "output_type": "stream",
     "text": [
      " 40%|████      | 42/104 [02:18<01:36,  1.55s/it]"
     ]
    },
    {
     "name": "stdout",
     "output_type": "stream",
     "text": [
      "error with: https://rada4you.org/search?query=Сергій+Демченко&button=hero_search\n",
      "Мазурашу Георгій Георгійович\n"
     ]
    },
    {
     "name": "stderr",
     "output_type": "stream",
     "text": [
      " 41%|████▏     | 43/104 [02:20<01:39,  1.64s/it]"
     ]
    },
    {
     "name": "stdout",
     "output_type": "stream",
     "text": [
      "error with: https://rada4you.org/search?query=Георгій+Мазурашу&button=hero_search\n",
      "Мамка Григорій Миколайович\n"
     ]
    },
    {
     "name": "stderr",
     "output_type": "stream",
     "text": [
      " 42%|████▏     | 44/104 [02:22<01:38,  1.65s/it]"
     ]
    },
    {
     "name": "stdout",
     "output_type": "stream",
     "text": [
      "Мамоян Суто Чолоєвич\n"
     ]
    },
    {
     "name": "stderr",
     "output_type": "stream",
     "text": [
      " 43%|████▎     | 45/104 [02:23<01:33,  1.58s/it]"
     ]
    },
    {
     "name": "stdout",
     "output_type": "stream",
     "text": [
      "Лабазюк Сергій Петрович\n"
     ]
    },
    {
     "name": "stderr",
     "output_type": "stream",
     "text": [
      " 44%|████▍     | 46/104 [02:25<01:32,  1.59s/it]"
     ]
    },
    {
     "name": "stdout",
     "output_type": "stream",
     "text": [
      "Тищенко Микола Миколайович\n"
     ]
    },
    {
     "name": "stderr",
     "output_type": "stream",
     "text": [
      " 45%|████▌     | 47/104 [02:26<01:27,  1.53s/it]"
     ]
    },
    {
     "name": "stdout",
     "output_type": "stream",
     "text": [
      "Гузенко Максим Васильович\n"
     ]
    },
    {
     "name": "stderr",
     "output_type": "stream",
     "text": [
      " 46%|████▌     | 48/104 [02:28<01:26,  1.54s/it]"
     ]
    },
    {
     "name": "stdout",
     "output_type": "stream",
     "text": [
      "error with: https://rada4you.org/search?query=Максим+Гузенко&button=hero_search\n",
      "Разумков Дмитро Олександрович\n"
     ]
    },
    {
     "name": "stderr",
     "output_type": "stream",
     "text": [
      " 47%|████▋     | 49/104 [02:31<01:48,  1.98s/it]"
     ]
    },
    {
     "name": "stdout",
     "output_type": "stream",
     "text": [
      "Євтушок Сергій Миколайович\n"
     ]
    },
    {
     "name": "stderr",
     "output_type": "stream",
     "text": [
      " 48%|████▊     | 50/104 [02:33<01:54,  2.12s/it]"
     ]
    },
    {
     "name": "stdout",
     "output_type": "stream",
     "text": [
      "Бабій Роман Вячеславович\n"
     ]
    },
    {
     "name": "stderr",
     "output_type": "stream",
     "text": [
      " 49%|████▉     | 51/104 [02:35<01:42,  1.93s/it]"
     ]
    },
    {
     "name": "stdout",
     "output_type": "stream",
     "text": [
      "Власенко Сергій Володимирович\n"
     ]
    },
    {
     "name": "stderr",
     "output_type": "stream",
     "text": [
      " 50%|█████     | 52/104 [02:36<01:28,  1.70s/it]"
     ]
    },
    {
     "name": "stdout",
     "output_type": "stream",
     "text": [
      "Красов Олексій Ігорович\n"
     ]
    },
    {
     "name": "stderr",
     "output_type": "stream",
     "text": [
      " 51%|█████     | 53/104 [02:37<01:16,  1.50s/it]"
     ]
    },
    {
     "name": "stdout",
     "output_type": "stream",
     "text": [
      "error with: https://rada4you.org/search?query=Олексій+Красов&button=hero_search\n",
      "Крулько Іван Іванович\n"
     ]
    },
    {
     "name": "stderr",
     "output_type": "stream",
     "text": [
      " 52%|█████▏    | 54/104 [02:38<01:14,  1.49s/it]"
     ]
    },
    {
     "name": "stdout",
     "output_type": "stream",
     "text": [
      "Микиша Дмитро Сергійович\n"
     ]
    },
    {
     "name": "stderr",
     "output_type": "stream",
     "text": [
      " 53%|█████▎    | 55/104 [02:39<01:08,  1.40s/it]"
     ]
    },
    {
     "name": "stdout",
     "output_type": "stream",
     "text": [
      "Неклюдов Владлен Михайлович\n"
     ]
    },
    {
     "name": "stderr",
     "output_type": "stream",
     "text": [
      " 54%|█████▍    | 56/104 [02:41<01:14,  1.56s/it]"
     ]
    },
    {
     "name": "stdout",
     "output_type": "stream",
     "text": [
      "error with: https://rada4you.org/search?query=Владлен+Неклюдов&button=hero_search\n",
      "Васюк Олександр Олександрович\n"
     ]
    },
    {
     "name": "stderr",
     "output_type": "stream",
     "text": [
      " 55%|█████▍    | 57/104 [02:49<02:41,  3.43s/it]"
     ]
    },
    {
     "name": "stdout",
     "output_type": "stream",
     "text": [
      "error with: https://rada4you.org/search?query=Олександр+Васюк&button=hero_search\n",
      "Ватрас Володимир Антонович\n"
     ]
    },
    {
     "name": "stderr",
     "output_type": "stream",
     "text": [
      " 56%|█████▌    | 58/104 [02:51<02:21,  3.08s/it]"
     ]
    },
    {
     "name": "stdout",
     "output_type": "stream",
     "text": [
      "error with: https://rada4you.org/search?query=Володимир+Ватрас&button=hero_search\n",
      "Гунько Анатолій Григорович\n"
     ]
    },
    {
     "name": "stderr",
     "output_type": "stream",
     "text": [
      " 57%|█████▋    | 59/104 [02:53<02:03,  2.74s/it]"
     ]
    },
    {
     "name": "stdout",
     "output_type": "stream",
     "text": [
      "Дирдін Максим Євгенович\n"
     ]
    },
    {
     "name": "stderr",
     "output_type": "stream",
     "text": [
      " 58%|█████▊    | 60/104 [02:56<01:58,  2.70s/it]"
     ]
    },
    {
     "name": "stdout",
     "output_type": "stream",
     "text": [
      "error with: https://rada4you.org/search?query=Максим+Дирдін&button=hero_search\n",
      "Калаур Іван Романович\n"
     ]
    },
    {
     "name": "stderr",
     "output_type": "stream",
     "text": [
      " 59%|█████▊    | 61/104 [02:58<01:51,  2.59s/it]"
     ]
    },
    {
     "name": "stdout",
     "output_type": "stream",
     "text": [
      "error with: https://rada4you.org/search?query=Іван+Калаур&button=hero_search\n",
      "Маслов Денис Вячеславович\n"
     ]
    },
    {
     "name": "stderr",
     "output_type": "stream",
     "text": [
      " 60%|█████▉    | 62/104 [03:00<01:41,  2.41s/it]"
     ]
    },
    {
     "name": "stdout",
     "output_type": "stream",
     "text": [
      "Стефанчук Микола Олексійович\n"
     ]
    },
    {
     "name": "stderr",
     "output_type": "stream",
     "text": [
      " 61%|██████    | 63/104 [03:03<01:43,  2.52s/it]"
     ]
    },
    {
     "name": "stdout",
     "output_type": "stream",
     "text": [
      "error with: https://rada4you.org/search?query=Микола+Стефанчук&button=hero_search\n",
      "Фріс Ігор Павлович\n"
     ]
    },
    {
     "name": "stderr",
     "output_type": "stream",
     "text": [
      " 62%|██████▏   | 64/104 [03:05<01:37,  2.44s/it]"
     ]
    },
    {
     "name": "stdout",
     "output_type": "stream",
     "text": [
      "Івченко Вадим Євгенович\n"
     ]
    },
    {
     "name": "stderr",
     "output_type": "stream",
     "text": [
      " 62%|██████▎   | 65/104 [03:07<01:19,  2.05s/it]"
     ]
    },
    {
     "name": "stdout",
     "output_type": "stream",
     "text": [
      "Кириленко Іван Григорович\n"
     ]
    },
    {
     "name": "stderr",
     "output_type": "stream",
     "text": [
      " 63%|██████▎   | 66/104 [03:08<01:11,  1.89s/it]"
     ]
    },
    {
     "name": "stdout",
     "output_type": "stream",
     "text": [
      "Наливайченко Валентин Олександрович\n"
     ]
    },
    {
     "name": "stderr",
     "output_type": "stream",
     "text": [
      " 64%|██████▍   | 67/104 [03:09<01:02,  1.70s/it]"
     ]
    },
    {
     "name": "stdout",
     "output_type": "stream",
     "text": [
      "Тимошенко Юлія Володимирівна\n"
     ]
    },
    {
     "name": "stderr",
     "output_type": "stream",
     "text": [
      " 65%|██████▌   | 68/104 [03:11<01:01,  1.71s/it]"
     ]
    },
    {
     "name": "stdout",
     "output_type": "stream",
     "text": [
      "Бурміч Анатолій Петрович\n"
     ]
    },
    {
     "name": "stderr",
     "output_type": "stream",
     "text": [
      " 66%|██████▋   | 69/104 [03:13<01:05,  1.88s/it]"
     ]
    },
    {
     "name": "stdout",
     "output_type": "stream",
     "text": [
      "Величкович Микола Романович\n"
     ]
    },
    {
     "name": "stderr",
     "output_type": "stream",
     "text": [
      " 67%|██████▋   | 70/104 [03:16<01:07,  1.98s/it]"
     ]
    },
    {
     "name": "stdout",
     "output_type": "stream",
     "text": [
      "Гнатенко Валерій Сергійович\n"
     ]
    },
    {
     "name": "stderr",
     "output_type": "stream",
     "text": [
      " 68%|██████▊   | 71/104 [03:17<01:04,  1.97s/it]"
     ]
    },
    {
     "name": "stdout",
     "output_type": "stream",
     "text": [
      "Гончаренко Олексій Олексійович\n"
     ]
    },
    {
     "name": "stderr",
     "output_type": "stream",
     "text": [
      " 69%|██████▉   | 72/104 [03:20<01:07,  2.10s/it]"
     ]
    },
    {
     "name": "stdout",
     "output_type": "stream",
     "text": [
      "Вельможний Сергій Анатолійович\n"
     ]
    },
    {
     "name": "stderr",
     "output_type": "stream",
     "text": [
      " 70%|███████   | 73/104 [03:23<01:12,  2.32s/it]"
     ]
    },
    {
     "name": "stdout",
     "output_type": "stream",
     "text": [
      "Німченко Василь Іванович\n"
     ]
    },
    {
     "name": "stderr",
     "output_type": "stream",
     "text": [
      " 71%|███████   | 74/104 [03:25<01:09,  2.32s/it]"
     ]
    },
    {
     "name": "stdout",
     "output_type": "stream",
     "text": [
      "Княжицький Микола Леонідович\n"
     ]
    },
    {
     "name": "stderr",
     "output_type": "stream",
     "text": [
      " 72%|███████▏  | 75/104 [03:27<01:07,  2.31s/it]"
     ]
    },
    {
     "name": "stdout",
     "output_type": "stream",
     "text": [
      "Балога Віктор Іванович\n"
     ]
    },
    {
     "name": "stderr",
     "output_type": "stream",
     "text": [
      " 73%|███████▎  | 76/104 [03:30<01:04,  2.31s/it]"
     ]
    },
    {
     "name": "stdout",
     "output_type": "stream",
     "text": [
      "Івахів Степан Петрович\n"
     ]
    },
    {
     "name": "stderr",
     "output_type": "stream",
     "text": [
      " 74%|███████▍  | 77/104 [03:33<01:10,  2.61s/it]"
     ]
    },
    {
     "name": "stdout",
     "output_type": "stream",
     "text": [
      "error with: https://rada4you.org/search?query=Степан+Івахів&button=hero_search\n",
      "Ісаєнко Дмитро Валерійович\n"
     ]
    },
    {
     "name": "stderr",
     "output_type": "stream",
     "text": [
      " 75%|███████▌  | 78/104 [03:35<01:06,  2.57s/it]"
     ]
    },
    {
     "name": "stdout",
     "output_type": "stream",
     "text": [
      "Абдуллін Олександр Рафкатович\n"
     ]
    },
    {
     "name": "stderr",
     "output_type": "stream",
     "text": [
      " 76%|███████▌  | 79/104 [03:38<01:02,  2.50s/it]"
     ]
    },
    {
     "name": "stdout",
     "output_type": "stream",
     "text": [
      "Іонова Марія Миколаївна\n"
     ]
    },
    {
     "name": "stderr",
     "output_type": "stream",
     "text": [
      " 77%|███████▋  | 80/104 [03:40<00:58,  2.46s/it]"
     ]
    },
    {
     "name": "stdout",
     "output_type": "stream",
     "text": [
      "Ар’єв Володимир Ігорович\n"
     ]
    },
    {
     "name": "stderr",
     "output_type": "stream",
     "text": [
      " 78%|███████▊  | 81/104 [03:55<02:20,  6.12s/it]"
     ]
    },
    {
     "name": "stdout",
     "output_type": "stream",
     "text": [
      "error with: https://rada4you.org/search?query=Володимир+Ар’єв&button=hero_search\n",
      "Дубінський Олександр Анатолійович\n"
     ]
    },
    {
     "name": "stderr",
     "output_type": "stream",
     "text": [
      " 79%|███████▉  | 82/104 [03:56<01:40,  4.56s/it]"
     ]
    },
    {
     "name": "stdout",
     "output_type": "stream",
     "text": [
      "Дунаєв Сергій Володимирович\n"
     ]
    },
    {
     "name": "stderr",
     "output_type": "stream",
     "text": [
      " 80%|███████▉  | 83/104 [03:57<01:16,  3.66s/it]"
     ]
    },
    {
     "name": "stdout",
     "output_type": "stream",
     "text": [
      "Загородній Юрій Іванович\n"
     ]
    },
    {
     "name": "stderr",
     "output_type": "stream",
     "text": [
      " 81%|████████  | 84/104 [03:59<01:00,  3.01s/it]"
     ]
    },
    {
     "name": "stdout",
     "output_type": "stream",
     "text": [
      "Кальцев Володимир Федорович\n"
     ]
    },
    {
     "name": "stderr",
     "output_type": "stream",
     "text": [
      " 82%|████████▏ | 85/104 [04:01<00:49,  2.63s/it]"
     ]
    },
    {
     "name": "stdout",
     "output_type": "stream",
     "text": [
      "error with: https://rada4you.org/search?query=Володимир+Кальцев&button=hero_search\n",
      "Качний Олександр Сталіноленович\n"
     ]
    },
    {
     "name": "stderr",
     "output_type": "stream",
     "text": [
      " 83%|████████▎ | 86/104 [04:02<00:38,  2.15s/it]"
     ]
    },
    {
     "name": "stdout",
     "output_type": "stream",
     "text": [
      "Макаренко Михайло Васильович\n"
     ]
    },
    {
     "name": "stderr",
     "output_type": "stream",
     "text": [
      " 84%|████████▎ | 87/104 [04:04<00:38,  2.25s/it]"
     ]
    },
    {
     "name": "stdout",
     "output_type": "stream",
     "text": [
      "Бунін Сергій Валерійович\n"
     ]
    },
    {
     "name": "stderr",
     "output_type": "stream",
     "text": [
      " 85%|████████▍ | 88/104 [04:07<00:40,  2.53s/it]"
     ]
    },
    {
     "name": "stdout",
     "output_type": "stream",
     "text": [
      "error with: https://rada4you.org/search?query=Сергій+Бунін&button=hero_search\n",
      "Вацак Геннадій Анатолійович\n"
     ]
    },
    {
     "name": "stderr",
     "output_type": "stream",
     "text": [
      " 86%|████████▌ | 89/104 [04:09<00:34,  2.27s/it]"
     ]
    },
    {
     "name": "stdout",
     "output_type": "stream",
     "text": [
      "Качура Олександр Анатолійович\n"
     ]
    },
    {
     "name": "stderr",
     "output_type": "stream",
     "text": [
      " 87%|████████▋ | 90/104 [04:11<00:33,  2.37s/it]"
     ]
    },
    {
     "name": "stdout",
     "output_type": "stream",
     "text": [
      "error with: https://rada4you.org/search?query=Олександр+Качура&button=hero_search\n",
      "Кожем’якін Андрій Анатолійович\n"
     ]
    },
    {
     "name": "stderr",
     "output_type": "stream",
     "text": [
      " 88%|████████▊ | 91/104 [04:21<00:58,  4.47s/it]"
     ]
    },
    {
     "name": "stdout",
     "output_type": "stream",
     "text": [
      "error with: https://rada4you.org/search?query=Андрій+Кожем’якін&button=hero_search\n",
      "Цимбалюк Михайло Михайлович\n"
     ]
    },
    {
     "name": "stderr",
     "output_type": "stream",
     "text": [
      " 88%|████████▊ | 92/104 [04:23<00:46,  3.84s/it]"
     ]
    },
    {
     "name": "stdout",
     "output_type": "stream",
     "text": [
      "Павлюк Максим Васильович\n"
     ]
    },
    {
     "name": "stderr",
     "output_type": "stream",
     "text": [
      " 89%|████████▉ | 93/104 [04:26<00:37,  3.39s/it]"
     ]
    },
    {
     "name": "stdout",
     "output_type": "stream",
     "text": [
      "Припутень Дмитро Сергійович\n"
     ]
    },
    {
     "name": "stderr",
     "output_type": "stream",
     "text": [
      " 90%|█████████ | 94/104 [04:28<00:31,  3.16s/it]"
     ]
    },
    {
     "name": "stdout",
     "output_type": "stream",
     "text": [
      "error with: https://rada4you.org/search?query=Дмитро+Припутень&button=hero_search\n",
      "Божик Валерій Іванович\n"
     ]
    },
    {
     "name": "stderr",
     "output_type": "stream",
     "text": [
      " 91%|█████████▏| 95/104 [04:31<00:27,  3.04s/it]"
     ]
    },
    {
     "name": "stdout",
     "output_type": "stream",
     "text": [
      "Арахамія Давид Георгійович\n"
     ]
    },
    {
     "name": "stderr",
     "output_type": "stream",
     "text": [
      " 92%|█████████▏| 96/104 [04:32<00:18,  2.36s/it]"
     ]
    },
    {
     "name": "stdout",
     "output_type": "stream",
     "text": [
      "Білозір Лариса Миколаївна\n"
     ]
    },
    {
     "name": "stderr",
     "output_type": "stream",
     "text": [
      " 93%|█████████▎| 97/104 [04:33<00:13,  1.98s/it]"
     ]
    },
    {
     "name": "stdout",
     "output_type": "stream",
     "text": [
      "Батенко Тарас Іванович\n"
     ]
    },
    {
     "name": "stderr",
     "output_type": "stream",
     "text": [
      " 94%|█████████▍| 98/104 [04:34<00:10,  1.77s/it]"
     ]
    },
    {
     "name": "stdout",
     "output_type": "stream",
     "text": [
      "Вагнєр Вікторія Олександрівна\n"
     ]
    },
    {
     "name": "stderr",
     "output_type": "stream",
     "text": [
      " 95%|█████████▌| 99/104 [04:35<00:07,  1.54s/it]"
     ]
    },
    {
     "name": "stdout",
     "output_type": "stream",
     "text": [
      "Горбенко Руслан Олександрович\n"
     ]
    },
    {
     "name": "stderr",
     "output_type": "stream",
     "text": [
      " 96%|█████████▌| 100/104 [04:36<00:05,  1.37s/it]"
     ]
    },
    {
     "name": "stdout",
     "output_type": "stream",
     "text": [
      "Шевченко Євгеній Володимирович\n"
     ]
    },
    {
     "name": "stderr",
     "output_type": "stream",
     "text": [
      " 97%|█████████▋| 101/104 [04:37<00:03,  1.33s/it]"
     ]
    },
    {
     "name": "stdout",
     "output_type": "stream",
     "text": [
      "Мороз Володимир Вікторович\n"
     ]
    },
    {
     "name": "stderr",
     "output_type": "stream",
     "text": [
      " 98%|█████████▊| 102/104 [04:40<00:03,  1.61s/it]"
     ]
    },
    {
     "name": "stdout",
     "output_type": "stream",
     "text": [
      "Приходько Наталія Ігорівна\n"
     ]
    },
    {
     "name": "stderr",
     "output_type": "stream",
     "text": [
      " 99%|█████████▉| 103/104 [04:42<00:01,  1.83s/it]"
     ]
    },
    {
     "name": "stdout",
     "output_type": "stream",
     "text": [
      "Бондар Віктор Васильович\n"
     ]
    },
    {
     "name": "stderr",
     "output_type": "stream",
     "text": [
      "100%|██████████| 104/104 [04:45<00:00,  2.74s/it]\n"
     ]
    }
   ],
   "source": [
    "friends_of_deputy = {}\n",
    "strongly_voted = {}\n",
    "never_voted = {}\n",
    "\n",
    "for deputy, features in tqdm.tqdm(all_deputies.items()):   \n",
    "    print(deputy) \n",
    "    \n",
    "    name_splited = deputy.split(\" \")\n",
    "    if len(name_splited) == 3:\n",
    "        sur, name, _ = name_splited\n",
    "    elif len(name_splited) == 2:\n",
    "        sur, name = name_splited\n",
    "    else:\n",
    "        break\n",
    "    try:\n",
    "        link_for_search = f\"https://rada4you.org/search?query={name}+{sur}&button=hero_search\"\n",
    "        response = requests.get(link_for_search, headers=headers)\n",
    "\n",
    "        if response.status_code == 200:\n",
    "            soup = BeautifulSoup(response.content, \"html.parser\")\n",
    "            ress = soup.find('h1', class_='media-heading')\n",
    "            dep_found = ress.get_text(strip=True)\n",
    "\n",
    "            table = soup.find('table', class_=\"table\")\n",
    "            res = table.find_all(\"tr\")\n",
    "            friends = []\n",
    "\n",
    "            for x in res[1:]:\n",
    "                # print(x.get_text().split(\"\\n\"))\n",
    "                _, perc, friend_ped_name, city, party, _ = x.get_text().split(\"\\n\")\n",
    "                perc = int(perc.replace(\"%\", \"\"))\n",
    "                friends.append((perc, friend_ped_name, party))\n",
    "                \n",
    "                # print(perc, friend_ped_name, party)\n",
    "                # print(\"-\")\n",
    "                # break\n",
    "            friends_of_deputy[deputy] = friends\n",
    "\n",
    "            never_voted_on = soup.find('div', class_='position-has-never-voted-on')\n",
    "            poss = never_voted_on.find_all(\"li\", class_ = \"object-item\")\n",
    "            all_negatives = []\n",
    "            for pos in poss:\n",
    "                all_negatives.append(pos.get_text(strip=True))\n",
    "            never_voted[deputy] = all_negatives\n",
    "\n",
    "            strongly_voted_on = soup.find('div', class_='position-voted-very-strongly-for')\n",
    "            poss = strongly_voted_on.find_all(\"li\", class_ = \"object-item\")\n",
    "            all_strong = []\n",
    "            for pos in poss:\n",
    "                all_strong.append(pos.get_text(strip=True))\n",
    "            strongly_voted[deputy] = all_strong\n",
    "\n",
    "    except:\n",
    "        print(\"error with:\", link_for_search)"
   ]
  },
  {
   "cell_type": "code",
   "execution_count": 27,
   "metadata": {},
   "outputs": [
    {
     "name": "stdout",
     "output_type": "stream",
     "text": [
      "Data saved to 'friends_of_deputy.json'\n"
     ]
    }
   ],
   "source": [
    "with open('friends_of_deputy.json', 'w', encoding='utf-8') as f:\n",
    "    json.dump(friends_of_deputy, f, ensure_ascii=False, indent=4)\n",
    "\n",
    "with open('strongly_voted.json', 'w', encoding='utf-8') as f:\n",
    "    json.dump(strongly_voted, f, ensure_ascii=False, indent=4)\n",
    "\n",
    "with open('never_voted.json', 'w', encoding='utf-8') as f:\n",
    "    json.dump(never_voted, f, ensure_ascii=False, indent=4)"
   ]
  },
  {
   "cell_type": "markdown",
   "metadata": {},
   "source": [
    "# Neo4j"
   ]
  },
  {
   "cell_type": "code",
   "execution_count": null,
   "metadata": {},
   "outputs": [],
   "source": [
    "# !pip install neo4j"
   ]
  },
  {
   "cell_type": "code",
   "execution_count": null,
   "metadata": {},
   "outputs": [],
   "source": [
    "from neo4j import GraphDatabase\n",
    "import json"
   ]
  },
  {
   "cell_type": "code",
   "execution_count": null,
   "metadata": {},
   "outputs": [],
   "source": [
    "json_file_path = 'fuckups_data.json'\n",
    "\n",
    "uri = \"bolt://localhost:7689\"\n",
    "username = \"neo4j\" \n",
    "password = \"12345678\"\n",
    "driver = GraphDatabase.driver(uri, auth=(username, password))"
   ]
  },
  {
   "cell_type": "code",
   "execution_count": 80,
   "metadata": {},
   "outputs": [],
   "source": [
    "def create_fuckup_data(tx, title, members, all_deputies):    \n",
    "    for member in members:\n",
    "        tx.run(\"\"\"\n",
    "            MERGE (t:Title {name: $title})\n",
    "            MERGE (m:Member {name: $member, number_of_fuckups: $number_of_fuckups})\n",
    "            MERGE (m)-[:SUPPORTS]->(t)\n",
    "        \"\"\", member=member, title=title, number_of_fuckups=all_deputies[member][0])\n",
    "\n",
    "    for member in members:\n",
    "        tx.run(\"\"\"\n",
    "            MERGE (t:Party {name: $party})\n",
    "            MERGE (m:Member {name: $member})\n",
    "            MERGE (m)-[:member_of_the_party]->(t)\n",
    "        \"\"\", member=member, party=all_deputies[member][1])\n",
    "\n",
    "\n",
    "def votes_for(tx, votes):\n",
    "    for dep, vote in votes.items():\n",
    "        tx.run(\"\"\"\n",
    "            MERGE (t:Vote {name: $title})\n",
    "            MERGE (m:Member {name: $member})\n",
    "            MERGE (m)-[:always_vote_for]->(t)\n",
    "        \"\"\", member=dep, title=vote)\n",
    "\n",
    "def votes_against(tx, votes):\n",
    "    for dep, vote in votes.items():\n",
    "        tx.run(\"\"\"\n",
    "            MERGE (t:Vote {name: $title})\n",
    "            MERGE (m:Member {name: $member})\n",
    "            MERGE (m)-[:always_vote_against]->(t)\n",
    "        \"\"\", member=dep, title=vote)\n",
    "\n",
    "def create_friends_relation(tx, friends_of_deputy, related_names):\n",
    "    for dep, friends_data in friends_of_deputy.items():\n",
    "        for friend_data in friends_data:\n",
    "            if friend_data[1] in related_names.keys():\n",
    "                tx.run(\"\"\"\n",
    "                    MERGE (friend:Member {name: $friend})\n",
    "                    MERGE (m:Member {name: $member})\n",
    "                    MERGE (m)-[:votes_similar {similarity: $perc}]->(friend)\n",
    "                \"\"\", member=dep, friend=related_names[friend_data[1]], perc=friend_data[0])\n",
    "\n",
    "\n",
    "def load_data_to_neo4j(data, all_deputies, strongly_voted, never_voted, friends_of_deputy, related_names):\n",
    "    \n",
    "    with driver.session() as session:\n",
    "        for item in fuckups:\n",
    "            title = item['title']\n",
    "            members = item['members']\n",
    "            session.write_transaction(create_fuckup_data, title, members, all_deputies)\n",
    "        session.write_transaction(votes_for, strongly_voted)\n",
    "        session.write_transaction(votes_against, never_voted)\n",
    "        # session.write_transaction(create_friends_relation, friends_of_deputy, related_names)\n",
    "        \n",
    "\n",
    "    print(\"Data successfully loaded to Neo4j!\")"
   ]
  },
  {
   "cell_type": "code",
   "execution_count": null,
   "metadata": {},
   "outputs": [],
   "source": [
    "def calculate_similarity_and_create_relations(tx):\n",
    "    tx.run(\"\"\"\n",
    "    CALL gds.graph.project.cypher(\n",
    "    'memberGraphMain',\n",
    "    'MATCH (m:Member) RETURN id(m) AS id',\n",
    "    'MATCH (m1:Member)-[:SUPPORTS]->(v:Title)<-[:SUPPORTS]-(m2:Member)\n",
    "     RETURN id(m1) AS source, id(m2) AS target\n",
    "     UNION\n",
    "     MATCH (m1:Member)-[:always_vote_for]->(t:Vote)<-[:always_vote_for]-(m2:Member)\n",
    "     RETURN id(m1) AS source, id(m2) AS target'\n",
    ")\n",
    "    \"\"\")\n",
    "\n",
    "    similarity_results = tx.run(\"\"\"\n",
    "    CALL gds.nodeSimilarity.stream('memberGraphMain1')\n",
    "    YIELD node1, node2, similarity\n",
    "    RETURN gds.util.asNode(node1).name AS member1, \n",
    "        gds.util.asNode(node2).name AS member2, \n",
    "        similarity\n",
    "    ORDER BY similarity DESC\n",
    "\n",
    "    \"\"\")\n",
    "\n",
    "    for record in similarity_results:\n",
    "        tx.run(\"\"\"\n",
    "            MATCH (m1:Member {name: $member1})\n",
    "            MATCH (m2:Member {name: $member2})\n",
    "            MERGE (m1)-[:similar_to {similarity_perc: $similarity}]->(m2)\n",
    "        \"\"\", member1=record[\"member1\"], member2=record[\"member2\"], similarity=record[\"similarity\"] * 100)\n",
    "\n",
    "    tx.run(\"CALL gds.graph.drop('memberGraph')\")"
   ]
  },
  {
   "cell_type": "code",
   "execution_count": 65,
   "metadata": {},
   "outputs": [],
   "source": [
    "related_names = {}\n",
    "\n",
    "for _, friends_data in friends_of_deputy.items():\n",
    "    for friend_data in friends_data:\n",
    "        friend = friend_data[1]\n",
    "        for deputy in all_deputies.keys():\n",
    "            related_name = \"\"\n",
    "            name_splited = deputy.split(\" \")\n",
    "            if len(name_splited) == 3:\n",
    "                sur, name, _ = name_splited\n",
    "                if name + \" \" + sur == friend:\n",
    "                    related_name = deputy\n",
    "            elif len(name_splited) == 2:\n",
    "                sur, name = name_splited\n",
    "                if name + \" \" + sur == friend:\n",
    "                    related_name = deputy\n",
    "            else:\n",
    "                break\n",
    "            if related_name:\n",
    "                related_names[friend] = related_name"
   ]
  },
  {
   "cell_type": "code",
   "execution_count": 81,
   "metadata": {},
   "outputs": [
    {
     "name": "stderr",
     "output_type": "stream",
     "text": [
      "/var/folders/pm/44lz1vt16w53yrztk3stvdc40000gn/T/ipykernel_5089/3742549946.py:50: DeprecationWarning: write_transaction has been renamed to execute_write\n",
      "  session.write_transaction(create_fuckup_data, title, members, all_deputies)\n",
      "/var/folders/pm/44lz1vt16w53yrztk3stvdc40000gn/T/ipykernel_5089/3742549946.py:51: DeprecationWarning: write_transaction has been renamed to execute_write\n",
      "  session.write_transaction(votes_for, strongly_voted)\n",
      "/var/folders/pm/44lz1vt16w53yrztk3stvdc40000gn/T/ipykernel_5089/3742549946.py:52: DeprecationWarning: write_transaction has been renamed to execute_write\n",
      "  session.write_transaction(votes_against, never_voted)\n"
     ]
    },
    {
     "name": "stdout",
     "output_type": "stream",
     "text": [
      "Data successfully loaded to Neo4j!\n"
     ]
    }
   ],
   "source": [
    "load_data_to_neo4j(fuckups, all_deputies, strongly_voted, never_voted, friends_of_deputy, related_names)"
   ]
  },
  {
   "cell_type": "code",
   "execution_count": null,
   "metadata": {},
   "outputs": [],
   "source": [
    "driver.close()"
   ]
  }
 ],
 "metadata": {
  "kernelspec": {
   "display_name": "venv",
   "language": "python",
   "name": "python3"
  },
  "language_info": {
   "codemirror_mode": {
    "name": "ipython",
    "version": 3
   },
   "file_extension": ".py",
   "mimetype": "text/x-python",
   "name": "python",
   "nbconvert_exporter": "python",
   "pygments_lexer": "ipython3",
   "version": "3.13.0"
  }
 },
 "nbformat": 4,
 "nbformat_minor": 2
}
